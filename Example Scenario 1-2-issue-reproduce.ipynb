{
 "cells": [
  {
   "cell_type": "code",
   "execution_count": 4,
   "metadata": {},
   "outputs": [
    {
     "name": "stdout",
     "output_type": "stream",
     "text": [
      "prefix cvds: <http://vision.semkg.org/dataset/>\n",
      "prefix dc: <http://purl.org/dc/elements/1.1/>\n",
      "prefix owl: <http://www.w3.org/2002/07/owl#>\n",
      "prefix cv: <http://vision.semkg.org/onto/v0.1/>\n",
      "\n",
      "SELECT DISTINCT ?annotation\n",
      "{\n",
      "    {\n",
      "        SELECT DISTINCT ?annotation {\n",
      "            ?annotation cv:hasAnnotatedObject ?cat.\n",
      "            ?cat cv:hasLabel ?label.\n",
      "            ?image cv:hasAnnotation ?annotation.\n",
      "            cvds:coco cv:containsImage ?image.\n",
      "            FILTER (?label = \"person\")\n",
      "        }\n",
      "        LIMIT 100\n",
      "    }\n",
      "    UNION {\n",
      "        SELECT DISTINCT ?annotation {\n",
      "            ?annotation cv:hasAnnotatedObject ?cat.\n",
      "            ?cat cv:hasLabel ?label.\n",
      "            ?image cv:hasAnnotation ?annotation.\n",
      "            ?image cv:hasLocalPath ?path.\n",
      "            cvds:kitti cv:containsImage ?image.\n",
      "            FILTER (?label = \"pedestrian\")\n",
      "        }\n",
      "        LIMIT 100\n",
      "    }\n",
      "}\n"
     ]
    }
   ],
   "source": [
    "from SPARQLWrapper import SPARQLWrapper, JSON, POST\n",
    "import json, os\n",
    "\n",
    "from query_util_redundancy_filter import *\n",
    "\n",
    "query_file   = 'query2-image_without_annotation_reproduce.sparql'\n",
    "query_string = open(query_file,'r').read()\n",
    "# print(query_string)\n",
    "file_anno    = 'coco_anno/samples_10' + query_file.replace('.sparql','.json')\n",
    "\n",
    "dataset = process_query(query_string)\n",
    "with open(file_anno,'w') as outfile:\n",
    "    json.dump(dataset,outfile)\n",
    "    "
   ]
  },
  {
   "cell_type": "code",
   "execution_count": null,
   "metadata": {},
   "outputs": [],
   "source": []
  }
 ],
 "metadata": {
  "kernelspec": {
   "display_name": "Python 3",
   "language": "python",
   "name": "python3"
  },
  "language_info": {
   "codemirror_mode": {
    "name": "ipython",
    "version": 3
   },
   "file_extension": ".py",
   "mimetype": "text/x-python",
   "name": "python",
   "nbconvert_exporter": "python",
   "pygments_lexer": "ipython3",
   "version": "3.6.9"
  }
 },
 "nbformat": 4,
 "nbformat_minor": 2
}
