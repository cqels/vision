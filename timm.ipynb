{
 "cells": [
  {
   "cell_type": "code",
   "execution_count": 1,
   "metadata": {},
   "outputs": [],
   "source": [
    "# Init enviroment\n",
    "\n",
    "import os\n",
    "os.environ[\"CUDA_DEVICE_ORDER\"]=\"PCI_BUS_ID\"\n",
    "os.environ[\"CUDA_VISIBLE_DEVICES\"]=\"0\""
   ]
  },
  {
   "cell_type": "code",
   "execution_count": null,
   "metadata": {},
   "outputs": [],
   "source": [
    "# Subscribe SPARQL query to retrieve the images and labels as desired\n",
    "\n",
    "from SPARQLWrapper import SPARQLWrapper, JSON, POST\n",
    "import json, os \n",
    "from query_util_redundancy_filter import *\n",
    "import sys\n",
    "query_string='''#Give me the images containing person and cat\n",
    "prefix cv:<http://vision.semkg.org/onto/v0.1/>\n",
    "SELECT DISTINCT ?image\n",
    "WHERE {\n",
    "    ?ann1 a cv:Annotation.\n",
    "    ?ann1 cv:isAnnotationOfImage ?image.\n",
    "    ?ann1 cv:hasAnnotatedObject ?obj1.\n",
    "    ?obj1 cv:hasLabel \"person\".\n",
    "    ?ann2 a cv:Annotation.\n",
    "    ?ann2 cv:isAnnotationOfImage ?image.\n",
    "    ?ann2 cv:hasAnnotatedObject ?obj2.\n",
    "    ?obj2 cv:hasLabel \"cat\".\n",
    "    ?image cv:hasLocalPath ?localPath.\n",
    "}\n",
    "LIMIT 20'''\n",
    "output_query_file=\"output_query/output.json\"\n",
    "with open(output_query_file,'w') as outfile:\n",
    "    json.dump(process_query(query_string),outfile)\n",
    "    \n",
    "categories = [category['name'] for category in dataset['categories']]\n"
   ]
  },
  {
   "cell_type": "code",
   "execution_count": 2,
   "metadata": {},
   "outputs": [],
   "source": [
    "dataset_path=\"/data/imagenet/ILSVRC/Data/CLS-LOC/\""
   ]
  },
  {
   "cell_type": "code",
   "execution_count": 4,
   "metadata": {},
   "outputs": [
    {
     "name": "stdout",
     "output_type": "stream",
     "text": [
      "python: can't open file 'training.py': [Errno 2] No such file or directory\r\n"
     ]
    }
   ],
   "source": [
    "!python training.py {dataset_path}"
   ]
  },
  {
   "cell_type": "code",
   "execution_count": null,
   "metadata": {},
   "outputs": [],
   "source": []
  }
 ],
 "metadata": {
  "kernelspec": {
   "display_name": "Python 3",
   "language": "python",
   "name": "python3"
  },
  "language_info": {
   "codemirror_mode": {
    "name": "ipython",
    "version": 3
   },
   "file_extension": ".py",
   "mimetype": "text/x-python",
   "name": "python",
   "nbconvert_exporter": "python",
   "pygments_lexer": "ipython3",
   "version": "3.6.9"
  }
 },
 "nbformat": 4,
 "nbformat_minor": 2
}
