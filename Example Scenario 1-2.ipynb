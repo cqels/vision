{
 "cells": [
  {
   "cell_type": "code",
   "execution_count": 20,
   "metadata": {},
   "outputs": [],
   "source": [
    "from SPARQLWrapper import SPARQLWrapper, JSON, POST\n",
    "import json, os\n",
    "\n",
    "categories_all=None\n",
    "with open('categories.json') as categories_file:\n",
    "    categories_all = json.load(categories_file)\n",
    "\n",
    "path_to_annotations='coco_anno/scenario1_multi_classes.json'\n",
    "path_to_server = '/data/nginx/fileServer'\n",
    "\n",
    "#Query Data from Knowledge Graph\n",
    "query1_sparql = open(\"query_union.sparql\", \"r\").read()\n",
    "\n",
    "sparql = SPARQLWrapper(\"http://172.17.0.10:8080/bigdata/sparql\")                      \n",
    "sparql.setReturnFormat(JSON)\n",
    "sparql.setMethod(POST)\n",
    "sparql.setQuery(query1_sparql)\n",
    "results = sparql.query().convert()"
   ]
  },
  {
   "cell_type": "code",
   "execution_count": 21,
   "metadata": {},
   "outputs": [],
   "source": [
    "#Query information of an annotation\n",
    "def queryAnno(annoURI, annId, imageId):\n",
    "    queryAnno = open('query/anno.sparql').read().replace('?annotation','<'+annoURI+'>')\n",
    "    sparql.setQuery(queryAnno)\n",
    "    result = sparql.query().convert()['results']['bindings'][0]\n",
    "    x = float(result['x']['value'])\n",
    "    y = float(result['y']['value'])\n",
    "    w = float(result['w']['value'])\n",
    "    h = float(result['h']['value'])\n",
    "    area = w * h\n",
    "    category_id = int(result['catId']['value'])\n",
    "    bbox = [x,y,w,h]\n",
    "    annotation = {\n",
    "        'id':annId,\n",
    "        'image_id':imageId,\n",
    "        'bbox':bbox,\n",
    "        'category_id':category_id,\n",
    "        'area':area,\n",
    "        'iscrowd': 0,\n",
    "    }\n",
    "    return annotation    "
   ]
  },
  {
   "cell_type": "code",
   "execution_count": 22,
   "metadata": {},
   "outputs": [],
   "source": [
    "#Query information of an image\n",
    "def queryImage(imageURI):\n",
    "    queryImage = open('query/image.sparql').read().replace('?image','<'+imageURI+'>')\n",
    "    sparql.setQuery(queryImage)\n",
    "    \n",
    "    # you could run it many times and reproduce it, bacause it does not occur during each querying. \n",
    "    # For one or two clasees, I've tested, it's fine. \n",
    "    # In this situation, the 9th line \"result = sparql.query().convert()['results']['bindings'][0]\" will retun result = [] .\n",
    "    result = sparql.query().convert()['results']['bindings'][0]\n",
    "    \n",
    "    id = int(imageURI.split('/')[-1])\n",
    "    w  = int(result['w']['value'])\n",
    "    h  = int(result['h']['value'])\n",
    "    file_name = result['fileName']['value']\n",
    "    path = result['path']['value']\n",
    "    image = {\n",
    "        'id':id,\n",
    "        'file_name': file_name,\n",
    "        'image_path': path_to_server + path,\n",
    "        'width':w,\n",
    "        'height':h\n",
    "    }\n",
    "    return image"
   ]
  },
  {
   "cell_type": "code",
   "execution_count": 23,
   "metadata": {},
   "outputs": [],
   "source": [
    "categories = []\n",
    "images = []\n",
    "annotations=[]\n",
    "ids = []\n",
    "annId=0\n",
    "\n",
    "for result in results['results']['bindings']:\n",
    "    imageId = int(result['image']['value'].split('/')[-1])\n",
    "    imageURI = result['image']['value']\n",
    "    if imageId not in ids:\n",
    "        image=queryImage(imageURI)\n",
    "        images.append(image)\n",
    "        ids.append(imageId)\n",
    "    \n",
    "    annoURI = result['annotation']['value']\n",
    "    annId+=1\n",
    "    annotation = queryAnno(annoURI,annId, imageId)\n",
    "    if annotation['category_id'] > 90:\n",
    "        continue\n",
    "    annotations.append(annotation)\n",
    "    \n",
    "dataset = {\n",
    "    \"images\":images,\n",
    "    \"annotations\":annotations,\n",
    "    \"categories\" : categories_all\n",
    "}        \n",
    " \n",
    "with open(path_to_annotations,'w') as outfile:\n",
    "    json.dump(dataset,outfile)"
   ]
  },
  {
   "cell_type": "code",
   "execution_count": null,
   "metadata": {},
   "outputs": [],
   "source": [
    "# The other issue, after quering, sometimes we would not only get annotations from MSCOCO, \n",
    "# but also from visual_genome dataset (such as \"image_path\": \"/data/nginx/fileServer/data/image_dataset/visual_genome/**.jpg),\n",
    "# which are not including in our label-mapping file \"categories,json\".\n",
    "# For simlification, here, I use \"category_id\" to filter those annotations which are not from MSCOCO. (as 18th line in the last cell)"
   ]
  }
 ],
 "metadata": {
  "kernelspec": {
   "display_name": "Python 3",
   "language": "python",
   "name": "python3"
  },
  "language_info": {
   "codemirror_mode": {
    "name": "ipython",
    "version": 3
   },
   "file_extension": ".py",
   "mimetype": "text/x-python",
   "name": "python",
   "nbconvert_exporter": "python",
   "pygments_lexer": "ipython3",
   "version": "3.6.9"
  }
 },
 "nbformat": 4,
 "nbformat_minor": 2
}
