{
  "nbformat": 4,
  "nbformat_minor": 0,
  "metadata": {
    "colab": {
      "name": "tutorials_classification_clear.ipynb",
      "provenance": [],
      "collapsed_sections": [],
      "toc_visible": true
    },
    "kernelspec": {
      "name": "python3",
      "display_name": "Python 3"
    },
    "language_info": {
      "name": "python"
    },
    "accelerator": "GPU"
  },
  "cells": [
    {
      "cell_type": "markdown",
      "metadata": {
        "id": "osTQZUCg-vQF"
      },
      "source": [
        "# Tutorial: Model Training / Inference based on MixedDatasets"
      ]
    },
    {
      "cell_type": "markdown",
      "metadata": {
        "id": "ah3BVAA7ALxX"
      },
      "source": [
        "# 0 Configure ENVS"
      ]
    },
    {
      "cell_type": "code",
      "metadata": {
        "id": "cpELSun8YAou"
      },
      "source": [
        "import os\n",
        "ROOT_PATH = os.path.abspath(\"./\")"
      ],
      "execution_count": null,
      "outputs": []
    },
    {
      "cell_type": "markdown",
      "metadata": {
        "id": "cmHXi25QAxMl"
      },
      "source": [
        "## 0.1 Clone our repo"
      ]
    },
    {
      "cell_type": "code",
      "metadata": {
        "id": "1u2FlUnJ-yv3"
      },
      "source": [
        "!git clone https://github.com/jichengyuan/mmclassificationCust.git"
      ],
      "execution_count": null,
      "outputs": []
    },
    {
      "cell_type": "markdown",
      "metadata": {
        "id": "IsbxxuYCA2Yi"
      },
      "source": [
        "## 0.2 check gcc, g++ and cuda"
      ]
    },
    {
      "cell_type": "code",
      "metadata": {
        "id": "9r3bVAkABArK"
      },
      "source": [
        "!gcc --version\n",
        "!g++ --version\n",
        "!nvcc --version"
      ],
      "execution_count": null,
      "outputs": []
    },
    {
      "cell_type": "markdown",
      "metadata": {
        "id": "AOwhEozmBJ64"
      },
      "source": [
        "## 0.3 install mmcv-full and other dependencies"
      ]
    },
    {
      "cell_type": "code",
      "metadata": {
        "id": "bMAJhzwMQNW-"
      },
      "source": [
        "# You may need to restart your runtime after this cell, to let your installation take effect.\n",
        "\n",
        "%cd mmclassificationCust/\n",
        "!python -m pip install cython funcy mmcv-full && python -m pip --no-cache-dir install -r requirements.txt\n",
        "!python setup.py develop\n",
        "%cd .."
      ],
      "execution_count": null,
      "outputs": []
    },
    {
      "cell_type": "markdown",
      "metadata": {
        "id": "bS1EcsSzCCUE"
      },
      "source": [
        "## 0.4 download a pretrained model if desired"
      ]
    },
    {
      "cell_type": "code",
      "metadata": {
        "id": "N52MXibBcONW"
      },
      "source": [
        "path_to_pth = ROOT_PATH+'/mmclassificationCust/pths/resnet18/'\n",
        "os.makedirs(path_to_pth, exist_ok=True)\n",
        "\n",
        "%cd mmclassificationCust/\n",
        "!wget -P $path_to_pth https://download.openmmlab.com/mmclassification/v0/resnet/resnet18_batch256_imagenet_20200708-34ab8f90.pth"
      ],
      "execution_count": null,
      "outputs": []
    },
    {
      "cell_type": "markdown",
      "metadata": {
        "id": "jSaW9721CXPE"
      },
      "source": [
        "# 1 MixedDataset: Querying, Training and Testing"
      ]
    },
    {
      "cell_type": "markdown",
      "metadata": {
        "id": "1ZQeO_4WCxd2"
      },
      "source": [
        "## 1.1 Query a MixedDataset"
      ]
    },
    {
      "cell_type": "code",
      "metadata": {
        "id": "gD-e_wQ2jdf_"
      },
      "source": [
        "# install our vision utils\n",
        "#!python -m pip install git+https://github.com/cqels/vision.git --force\n"
      ],
      "execution_count": null,
      "outputs": []
    },
    {
      "cell_type": "code",
      "metadata": {
        "id": "KDDSL4k-C-b3"
      },
      "source": [
        "# import SemkgAPI\n",
        "#import json\n",
        "#from vision_utils import semkg_api, data\n",
        "\n",
        "# # query from string\n",
        "\n",
        "# # query from file"
      ],
      "execution_count": null,
      "outputs": []
    },
    {
      "cell_type": "code",
      "metadata": {
        "id": "7gHKXJzujdgB"
      },
      "source": [
        "import json\n",
        "import os\n",
        "from os.path import join as opj\n",
        "# from utils import dataset_split, check_instances_categories, check_download_images\n",
        "\n",
        "\n",
        "# query_string='''#Give me the images containing person and cat\n",
        "# prefix cv:<http://vision.semkg.org/onto/v0.1/>\n",
        "# SELECT DISTINCT ?image\n",
        "# WHERE {\n",
        "#     ?ann1 a cv:Annotation.\n",
        "#     ?ann1 cv:isAnnotationOfImage ?image.\n",
        "#     ?ann1 cv:hasAnnotatedObject ?obj1.\n",
        "#     ?obj1 cv:hasLabel \"person\".\n",
        "#     ?ann2 a cv:Annotation.\n",
        "#     ?ann2 cv:isAnnotationOfImage ?image.\n",
        "#     ?ann2 cv:hasAnnotatedObject ?obj2.\n",
        "#     ?obj2 cv:hasLabel \"cat\".\n",
        "#     ?image cv:hasLocalPath ?localPath.\n",
        "# }\n",
        "# LIMIT 20'''\n",
        "\n",
        "# result=semkg_api.query(query_string)\n",
        "\n",
        "ROOT_PATH = os.path.abspath('./')\n",
        "# json_f_name = 'test_query_api_image.json'\n",
        "path_to_anno_mixedDatasets = opj(ROOT_PATH, 'testData/mixedDatasets/imagenette2_tiny/meta/')\n",
        "path_to_images_mixedDatasets = opj(ROOT_PATH, 'testData/mixedDatasets/imagenette2_tiny/')\n",
        "# os.makedirs(path_to_anno_mixedDatasets, exist_ok=True)\n",
        "# path_to_anno = opj(path_to_anno_mixedDatasets, json_f_name)\n",
        "\n",
        "# with open(path_to_anno, \"w\") as f:\n",
        "#     json.dump(result,f)\n",
        "\n",
        "# check_download_images(result[\"images\"])\n",
        "# categories = [category['name'] for category in result['categories']]\n",
        "# number_of_categories = len(categories)"
      ],
      "execution_count": null,
      "outputs": []
    },
    {
      "cell_type": "markdown",
      "metadata": {
        "id": "6HNbl_TRC5q8"
      },
      "source": [
        "## 1.2 Split the quried MixedDatasets and check the #instances per category"
      ]
    },
    {
      "cell_type": "code",
      "metadata": {
        "id": "7nouKewLRRhR"
      },
      "source": [
        "path_to_train_images = opj(path_to_images_mixedDatasets,'train')\n",
        "path_to_train_labels = opj(path_to_anno_mixedDatasets,'train.txt')\n",
        "\n",
        "path_to_val_images = opj(path_to_images_mixedDatasets,'val')\n",
        "path_to_val_labels = opj(path_to_anno_mixedDatasets,'val.txt')\n",
        "\n",
        "path_label_numbers = opj(path_to_anno_mixedDatasets,'classmap.txt')\n",
        "# dataset_split(path_to_anno, path_to_train_val, path_to_test, ratio)\n",
        "# dataset_split(path_to_train_val, path_to_train, path_to_val, ratio)"
      ],
      "execution_count": null,
      "outputs": []
    },
    {
      "cell_type": "markdown",
      "metadata": {
        "id": "EshHRM0jq1My"
      },
      "source": [
        ""
      ]
    },
    {
      "cell_type": "markdown",
      "metadata": {
        "id": "QmK1Accru_4Y"
      },
      "source": [
        "## 1.3 Set paths for config and work-dir"
      ]
    },
    {
      "cell_type": "code",
      "metadata": {
        "id": "f-U1DsFhu6QT"
      },
      "source": [
        "path_to_config = 'configs/resnet/resnet18_b32x8_imagenet_mixedDatasets.py'\n",
        "path_to_work_dir = 'training_mixedDatasets_example/resnet18_b32x8_imagenet_mixedDatasets/'\n",
        "path_to_pretrained_weights = 'pths/resnet18/resnet18_batch256_imagenet_20200708-34ab8f90.pth'"
      ],
      "execution_count": null,
      "outputs": []
    },
    {
      "cell_type": "markdown",
      "metadata": {
        "id": "ODMJYRW6D3Qa"
      },
      "source": [
        "## 1.4 Training on the MixedDataset"
      ]
    },
    {
      "cell_type": "code",
      "metadata": {
        "id": "TC_kfJJJRU6L"
      },
      "source": [
        "%run tools/train.py \\\n",
        "{path_to_config} \\\n",
        "--work-dir {path_to_work_dir} \\\n",
        "--cfg-options data.train.data_prefix={path_to_train_images} \\\n",
        "data.train.ann_file={path_to_train_labels} \\\n",
        "data.val.data_prefix={path_to_val_images} \\\n",
        "data.val.ann_file={path_to_val_labels} \\\n",
        "runner.max_epochs=100"
      ],
      "execution_count": null,
      "outputs": []
    },
    {
      "cell_type": "markdown",
      "metadata": {
        "id": "JQ8e-m9mD2LB"
      },
      "source": [
        "## 1.5 Verify the checkpoint file."
      ]
    },
    {
      "cell_type": "code",
      "metadata": {
        "id": "p6OarK0bwZo0"
      },
      "source": [
        "checkpoint_file = os.path.join(path_to_work_dir, \"latest.pth\")\n",
        "assert os.path.isfile(checkpoint_file), '{} not exist'.format(checkpoint_file)\n",
        "checkpoint_file = os.path.abspath(checkpoint_file)\n",
        "output_pkl = os.path.join(path_to_work_dir, 'result_test.pkl')"
      ],
      "execution_count": null,
      "outputs": []
    },
    {
      "cell_type": "markdown",
      "metadata": {
        "id": "E9fXegyy5G-q"
      },
      "source": [
        "## 1.6 Testing on the MixedDataset"
      ]
    },
    {
      "cell_type": "code",
      "metadata": {
        "id": "qkkHWcJ7b882"
      },
      "source": [
        "%run tools/test.py \\\n",
        "{path_to_config} \\\n",
        "{checkpoint_file} \\\n",
        "--out {output_pkl} \\\n",
        "--cfg-options data.test.data_prefix={path_to_val_images} \\\n",
        "data.test.ann_file={path_to_val_labels} \\\n",
        "--show"
      ],
      "execution_count": null,
      "outputs": []
    }
  ]
}