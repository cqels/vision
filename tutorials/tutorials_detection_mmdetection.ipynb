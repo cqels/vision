{
  "nbformat": 4,
  "nbformat_minor": 2,
  "metadata": {
    "colab": {
      "name": "tutorials_detection_mmdetection.ipynb",
      "provenance": [],
      "collapsed_sections": []
    },
    "kernelspec": {
      "name": "python3",
      "display_name": "Python 3"
    },
    "language_info": {
      "name": "python"
    },
    "accelerator": "GPU"
  },
  "cells": [
    {
      "cell_type": "markdown",
      "source": [
        "# Tutorial: Model Training / Inference based on MixedDatasets"
      ],
      "metadata": {
        "id": "osTQZUCg-vQF"
      }
    },
    {
      "cell_type": "markdown",
      "source": [
        "# 1. Enviroment Setup"
      ],
      "metadata": {
        "id": "vHWnyaMpSECR"
      }
    },
    {
      "cell_type": "markdown",
      "source": [
        "##1.1. Setup your own Object Detection tool."
      ],
      "metadata": {}
    },
    {
      "cell_type": "code",
      "execution_count": null,
      "source": [
        "# 1. Configure ENVS\r\n",
        "%load_ext autoreload\r\n",
        "%autoreload 2\r\n",
        "\r\n",
        "## 1.1 check gcc, g++ and cuda\r\n",
        "!gcc --version\r\n",
        "!g++ --version\r\n",
        "!nvcc --version\r\n",
        "\r\n",
        "import os\r\n",
        "ROOT_PATH = os.path.abspath(\"./\")\r\n",
        "\r\n",
        "## 1.2 Clone our repo\r\n",
        "!git clone https://github.com/jichengyuan/mmdetectionCust.git\r\n",
        "\r\n",
        "## 1.3 install mmcv-full and other dependencies\r\n",
        "# You may need to restart your runtime after this cell, to let your installation take effect.\r\n",
        "%cd mmdetectionCust/\r\n",
        "!python -m pip install cython funcy && python -m pip install -r requirements.txt\r\n",
        "!python -m pip install mmcv-full -f https://download.openmmlab.com/mmcv/dist/cu102/torch1.9.0/index.html\r\n",
        "!python setup.py develop\r\n",
        "%cd ..\r\n",
        "\r\n",
        "## 1.4 download a pretrained model if desired\r\n",
        "path_to_pth = ROOT_PATH+'/mmdetectionCust/pths/focs/'\r\n",
        "os.makedirs(path_to_pth, exist_ok=True)\r\n",
        "%cd mmdetectionCust/\r\n",
        "!wget -P $path_to_pth https://openmmlab.oss-cn-hangzhou.aliyuncs.com/mmdetection/v2.0/fcos/fcos_r50_caffe_fpn_gn-head_1x_coco/fcos_r50_caffe_fpn_gn-head_1x_coco-821213aa.pth\r\n"
      ],
      "outputs": [],
      "metadata": {
        "id": "ultNaE1kSECU"
      }
    },
    {
      "cell_type": "markdown",
      "source": [
        "## 1.2. Install VisionKG API"
      ],
      "metadata": {}
    },
    {
      "cell_type": "code",
      "execution_count": null,
      "source": [
        "# install our vision api\r\n",
        "!python -m pip install git+https://github.com/cqels/vision.git --force"
      ],
      "outputs": [],
      "metadata": {}
    },
    {
      "cell_type": "markdown",
      "source": [
        "# 2 MixedDataset with Vision KG: Querying, Training and Testing"
      ],
      "metadata": {
        "id": "jSaW9721CXPE"
      }
    },
    {
      "cell_type": "markdown",
      "source": [
        "## 2.1 Query a MixedDataset"
      ],
      "metadata": {
        "id": "1ZQeO_4WCxd2"
      }
    },
    {
      "cell_type": "code",
      "execution_count": null,
      "source": [
        "# import SemkgAPI\r\n",
        "import json\r\n",
        "from vision_utils import semkg_api, data\r\n",
        "from os.path import join as opj\r\n",
        "from utils import dataset_split, check_instances_categories, check_download_images\r\n",
        "\r\n",
        "\r\n",
        "query_string='''#Give me the images containing person and cat\r\n",
        "prefix cv:<http://vision.semkg.org/onto/v0.1/>\r\n",
        "SELECT DISTINCT ?image\r\n",
        "WHERE {\r\n",
        "    ?ann1 a cv:Annotation.\r\n",
        "    ?ann1 cv:isAnnotationOfImage ?image.\r\n",
        "    ?ann1 cv:hasAnnotatedObject ?obj1.\r\n",
        "    ?obj1 cv:hasLabel \"person\".\r\n",
        "    ?ann2 a cv:Annotation.\r\n",
        "    ?ann2 cv:isAnnotationOfImage ?image.\r\n",
        "    ?ann2 cv:hasAnnotatedObject ?obj2.\r\n",
        "    ?obj2 cv:hasLabel \"cat\".\r\n",
        "    ?image cv:hasLocalPath ?localPath.\r\n",
        "}\r\n",
        "LIMIT 20'''\r\n",
        "\r\n",
        "result=semkg_api.query(query_string)\r\n",
        "\r\n",
        "for image in result[\"images\"]:\r\n",
        "    print(image[\"file_name\"])"
      ],
      "outputs": [],
      "metadata": {
        "id": "7gHKXJzujdgB"
      }
    },
    {
      "cell_type": "markdown",
      "source": [
        "## 2.2. Check and Prepare Data from the query result"
      ],
      "metadata": {}
    },
    {
      "cell_type": "code",
      "execution_count": null,
      "source": [
        "#save query result\r\n",
        "ROOT_PATH = os.path.abspath('./')\r\n",
        "json_f_name = 'test_query_api_image.json'\r\n",
        "path_to_anno_mixedDatasets = opj(ROOT_PATH, 'testData/mixedDatasets/')\r\n",
        "os.makedirs(path_to_anno_mixedDatasets, exist_ok=True)\r\n",
        "path_to_anno = opj(path_to_anno_mixedDatasets, json_f_name)\r\n",
        "\r\n",
        "with open(path_to_anno, \"w\") as f:\r\n",
        "    json.dump(result,f)\r\n",
        "    \r\n",
        "# Using vision utils to check and download missing data\r\n",
        "check_download_images(result[\"images\"])\r\n",
        "categories = [category['name'] for category in result['categories']]\r\n",
        "number_of_categories = len(categories)"
      ],
      "outputs": [],
      "metadata": {
        "id": "38x2pe0OSECd"
      }
    },
    {
      "cell_type": "markdown",
      "source": [
        "## 2.2 Perform Training on your chosen Object Detection tool."
      ],
      "metadata": {
        "id": "6HNbl_TRC5q8"
      }
    },
    {
      "cell_type": "code",
      "execution_count": null,
      "source": [
        "## Split the quried MixedDatasets and check the #instances per category\r\n",
        "path_to_train_val = opj(path_to_anno_mixedDatasets,'train_val_set.json')\r\n",
        "path_to_train = opj(path_to_anno_mixedDatasets,'train_set.json')\r\n",
        "path_to_val = opj(path_to_anno_mixedDatasets,'val_set.json')\r\n",
        "path_to_test = opj(path_to_anno_mixedDatasets,'test_set.json')\r\n",
        "ratio = 0.8\r\n",
        "\r\n",
        "dataset_split(path_to_anno, path_to_train_val, path_to_test, ratio)\r\n",
        "dataset_split(path_to_train_val, path_to_train, path_to_val, ratio)\r\n",
        "\r\n",
        "## Set paths for config and work-dir\r\n",
        "path_to_config = 'configs/fcos/fcos_r50_caffe_fpn_gn-head_1x_mixedDataset_loadFromSeparatedFile.py'\r\n",
        "path_to_work_dir = 'training_logs_example/fcos_coco_format_anno_example/'\r\n",
        "path_to_pretrained_weights = 'pths/focs/fcos_r50_caffe_fpn_gn-head_1x_coco-821213aa.pth'\r\n",
        "\r\n",
        "## Training on the MixedDataset\r\n",
        "%run tools/train.py \\\r\n",
        "{path_to_config} \\\r\n",
        "--work-dir {path_to_work_dir} \\\r\n",
        "--cfg-options model.bbox_head.num_classes={number_of_categories} \\\r\n",
        "data.train.ann_file={path_to_anno} \\\r\n",
        "data.val.ann_file={path_to_anno} \\\r\n",
        "runner.max_epochs=4 \\\r\n",
        "data.samples_per_gpu=1 \\\r\n",
        "load_from={path_to_pretrained_weights} \\\r\n",
        "data.train.classes=\"$categories\" \\\r\n",
        "data.val.classes=\"$categories\"\r\n",
        "\r\n",
        "## Verify the checkpoint file.\r\n",
        "checkpoint_file = os.path.join(path_to_work_dir, \"latest.pth\")\r\n",
        "assert os.path.isfile(checkpoint_file), '{} not exist'.format(checkpoint_file)\r\n",
        "checkpoint_file = os.path.abspath(checkpoint_file)\r\n",
        "output_pkl = os.path.join(path_to_work_dir, 'result_test.pkl')\r\n",
        "\r\n",
        "## Evaluate the trained model on the MixedDataset\r\n",
        "%run tools/test.py \\\r\n",
        "{path_to_config} \\\r\n",
        "{checkpoint_file} \\\r\n",
        "--work-dir {path_to_work_dir} \\\r\n",
        "--out {output_pkl} \\\r\n",
        "--cfg-options data.test.ann_file={path_to_anno} \\\r\n",
        "model.bbox_head.num_classes={number_of_categories} \\\r\n",
        "data.samples_per_gpu=1 \\\r\n",
        "data.test.classes=\"$categories\" \\\r\n",
        "--eval bbox \\\r\n",
        "--show"
      ],
      "outputs": [],
      "metadata": {
        "id": "7nouKewLRRhR"
      }
    }
  ]
}