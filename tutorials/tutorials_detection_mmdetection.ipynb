{
  "nbformat": 4,
  "nbformat_minor": 0,
  "metadata": {
    "colab": {
      "name": "tutorials_detection_mmdetection.ipynb",
      "provenance": [],
      "collapsed_sections": []
    },
    "kernelspec": {
      "name": "python3",
      "display_name": "Python 3"
    },
    "language_info": {
      "name": "python"
    },
    "accelerator": "GPU"
  },
  "cells": [
    {
      "cell_type": "markdown",
      "metadata": {
        "id": "osTQZUCg-vQF"
      },
      "source": [
        "# Tutorial: Model Training / Inference based on MixedDatasets"
      ]
    },
    {
      "cell_type": "markdown",
      "metadata": {
        "id": "vHWnyaMpSECR"
      },
      "source": [
        "# 1. Prepare enviroment and setup your own Object Detection tool."
      ]
    },
    {
      "cell_type": "code",
      "metadata": {
        "id": "ultNaE1kSECU"
      },
      "source": [
        "# 1. Configure ENVS\n",
        "%load_ext autoreload\n",
        "%autoreload 2\n",
        "\n",
        "## 1.1 check gcc, g++ and cuda\n",
        "!gcc --version\n",
        "!g++ --version\n",
        "!nvcc --version\n",
        "\n",
        "import os\n",
        "ROOT_PATH = os.path.abspath(\"./\")\n",
        "\n",
        "## 1.2 Clone our repo\n",
        "!git clone https://github.com/jichengyuan/mmdetectionCust.git\n",
        "\n",
        "## 1.3 install mmcv-full and other dependencies\n",
        "# You may need to restart your runtime after this cell, to let your installation take effect.\n",
        "%cd mmdetectionCust/\n",
        "!python -m pip install cython funcy && python -m pip --no-cache-dir install -r requirements.txt\n",
        "!python -m pip install mmcv-full -f https://download.openmmlab.com/mmcv/dist/cu102/torch1.9.0/index.html\n",
        "!python setup.py develop\n",
        "%cd ..\n",
        "\n",
        "## 1.4 download a pretrained model if desired\n",
        "path_to_pth = ROOT_PATH+'/mmdetectionCust/pths/focs/'\n",
        "os.makedirs(path_to_pth, exist_ok=True)\n",
        "%cd mmdetectionCust/\n",
        "!wget -P $path_to_pth https://openmmlab.oss-cn-hangzhou.aliyuncs.com/mmdetection/v2.0/fcos/fcos_r50_caffe_fpn_gn-head_1x_coco/fcos_r50_caffe_fpn_gn-head_1x_coco-821213aa.pth\n"
      ],
      "execution_count": null,
      "outputs": []
    },
    {
      "cell_type": "markdown",
      "metadata": {
        "id": "jSaW9721CXPE"
      },
      "source": [
        "# 2 MixedDataset with Vision KG: Querying, Training and Testing"
      ]
    },
    {
      "cell_type": "markdown",
      "metadata": {
        "id": "1ZQeO_4WCxd2"
      },
      "source": [
        "## 2.1 Query a MixedDataset"
      ]
    },
    {
      "cell_type": "code",
      "metadata": {
        "id": "gD-e_wQ2jdf_"
      },
      "source": [
        "# install our vision utils\n",
        "!python -m pip install git+https://github.com/cqels/vision.git --force\n"
      ],
      "execution_count": null,
      "outputs": []
    },
    {
      "cell_type": "code",
      "metadata": {
        "id": "7gHKXJzujdgB"
      },
      "source": [
        "# import SemkgAPI\n",
        "import json\n",
        "from vision_utils import semkg_api, data\n",
        "from os.path import join as opj\n",
        "from utils import dataset_split, check_instances_categories, check_download_images\n",
        "\n",
        "\n",
        "query_string='''#Give me the images containing person and cat\n",
        "prefix cv:<http://vision.semkg.org/onto/v0.1/>\n",
        "SELECT DISTINCT ?image\n",
        "WHERE {\n",
        "    ?ann1 a cv:Annotation.\n",
        "    ?ann1 cv:isAnnotationOfImage ?image.\n",
        "    ?ann1 cv:hasAnnotatedObject ?obj1.\n",
        "    ?obj1 cv:hasLabel \"person\".\n",
        "    ?ann2 a cv:Annotation.\n",
        "    ?ann2 cv:isAnnotationOfImage ?image.\n",
        "    ?ann2 cv:hasAnnotatedObject ?obj2.\n",
        "    ?obj2 cv:hasLabel \"cat\".\n",
        "    ?image cv:hasLocalPath ?localPath.\n",
        "}\n",
        "LIMIT 20'''\n",
        "\n",
        "result=semkg_api.query(query_string)\n",
        "\n",
        "ROOT_PATH = os.path.abspath('./')\n",
        "json_f_name = 'test_query_api_image.json'\n",
        "path_to_anno_mixedDatasets = opj(ROOT_PATH, 'testData/mixedDatasets/')\n",
        "os.makedirs(path_to_anno_mixedDatasets, exist_ok=True)\n",
        "path_to_anno = opj(path_to_anno_mixedDatasets, json_f_name)\n",
        "\n",
        "with open(path_to_anno, \"w\") as f:\n",
        "    json.dump(result,f)\n",
        "\n"
      ],
      "execution_count": null,
      "outputs": []
    },
    {
      "cell_type": "code",
      "metadata": {
        "id": "38x2pe0OSECd"
      },
      "source": [
        "# Using vision utils to check and download missing data\n",
        "check_download_images(result[\"images\"])\n",
        "categories = [category['name'] for category in result['categories']]\n",
        "number_of_categories = len(categories)"
      ],
      "execution_count": null,
      "outputs": []
    },
    {
      "cell_type": "markdown",
      "metadata": {
        "id": "6HNbl_TRC5q8"
      },
      "source": [
        "## 2.2 Perform Training on your chosen Object Detection tool."
      ]
    },
    {
      "cell_type": "code",
      "metadata": {
        "id": "7nouKewLRRhR"
      },
      "source": [
        "## Split the quried MixedDatasets and check the #instances per category\n",
        "path_to_train_val = opj(path_to_anno_mixedDatasets,'train_val_set.json')\n",
        "path_to_train = opj(path_to_anno_mixedDatasets,'train_set.json')\n",
        "path_to_val = opj(path_to_anno_mixedDatasets,'val_set.json')\n",
        "path_to_test = opj(path_to_anno_mixedDatasets,'test_set.json')\n",
        "ratio = 0.8\n",
        "\n",
        "dataset_split(path_to_anno, path_to_train_val, path_to_test, ratio)\n",
        "dataset_split(path_to_train_val, path_to_train, path_to_val, ratio)\n",
        "\n",
        "## Set paths for config and work-dir\n",
        "path_to_config = 'configs/fcos/fcos_r50_caffe_fpn_gn-head_1x_mixedDataset_loadFromSeparatedFile.py'\n",
        "path_to_work_dir = 'training_logs_example/fcos_coco_format_anno_example/'\n",
        "path_to_pretrained_weights = 'pths/focs/fcos_r50_caffe_fpn_gn-head_1x_coco-821213aa.pth'\n",
        "\n",
        "## Training on the MixedDataset\n",
        "%run tools/train.py \\\n",
        "{path_to_config} \\\n",
        "--work-dir {path_to_work_dir} \\\n",
        "--cfg-options model.bbox_head.num_classes={number_of_categories} \\\n",
        "data.train.ann_file={path_to_anno} \\\n",
        "data.val.ann_file={path_to_anno} \\\n",
        "runner.max_epochs=4 \\\n",
        "data.samples_per_gpu=1 \\\n",
        "load_from={path_to_pretrained_weights} \\\n",
        "data.train.classes=\"$categories\" \\\n",
        "data.val.classes=\"$categories\"\n",
        "\n",
        "## Verify the checkpoint file.\n",
        "checkpoint_file = os.path.join(path_to_work_dir, \"latest.pth\")\n",
        "assert os.path.isfile(checkpoint_file), '{} not exist'.format(checkpoint_file)\n",
        "checkpoint_file = os.path.abspath(checkpoint_file)\n",
        "output_pkl = os.path.join(path_to_work_dir, 'result_test.pkl')\n",
        "\n",
        "## Evaluate the trained model on the MixedDataset\n",
        "%run tools/test.py \\\n",
        "{path_to_config} \\\n",
        "{checkpoint_file} \\\n",
        "--work-dir {path_to_work_dir} \\\n",
        "--out {output_pkl} \\\n",
        "--cfg-options data.test.ann_file={path_to_anno} \\\n",
        "model.bbox_head.num_classes={number_of_categories} \\\n",
        "data.samples_per_gpu=1 \\\n",
        "data.test.classes=\"$categories\" \\\n",
        "--eval bbox \\\n",
        "--show"
      ],
      "execution_count": null,
      "outputs": []
    }
  ]
}