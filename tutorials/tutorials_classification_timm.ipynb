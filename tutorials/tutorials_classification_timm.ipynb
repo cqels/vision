{
  "nbformat": 4,
  "nbformat_minor": 0,
  "metadata": {
    "colab": {
      "name": "tutorials_classification_timm.ipynb",
      "provenance": [],
      "collapsed_sections": []
    },
    "kernelspec": {
      "name": "python3",
      "display_name": "Python 3"
    },
    "language_info": {
      "name": "python"
    },
    "accelerator": "GPU"
  },
  "cells": [
    {
      "cell_type": "markdown",
      "metadata": {
        "id": "osTQZUCg-vQF"
      },
      "source": [
        "# Tutorial: Model Training / Inference based on MixedDatasets"
      ]
    },
    {
      "cell_type": "markdown",
      "metadata": {
        "id": "ah3BVAA7ALxX"
      },
      "source": [
        "# 0 Configure ENVS"
      ]
    },
    {
      "cell_type": "code",
      "metadata": {
        "id": "1u2FlUnJ-yv3"
      },
      "source": [
        "!git clone https://github.com/rwightman/pytorch-image-models.git\n",
        "\n",
        "%cd pytorch-image-models/\n",
        "!python -m pip --no-cache-dir install -r requirements.txt\n",
        "!python setup.py develop"
      ],
      "execution_count": null,
      "outputs": []
    },
    {
      "cell_type": "markdown",
      "metadata": {
        "id": "jSaW9721CXPE"
      },
      "source": [
        "# 1 MixedDataset: Querying, Training and Testing"
      ]
    },
    {
      "cell_type": "markdown",
      "metadata": {
        "id": "1ZQeO_4WCxd2"
      },
      "source": [
        "## 1.1 Query a MixedDataset"
      ]
    },
    {
      "cell_type": "code",
      "metadata": {
        "id": "gD-e_wQ2jdf_"
      },
      "source": [
        "# install our vision utils\n",
        "#!python -m pip install git+https://github.com/cqels/vision.git --force\n"
      ],
      "execution_count": null,
      "outputs": []
    },
    {
      "cell_type": "code",
      "metadata": {
        "id": "KDDSL4k-C-b3"
      },
      "source": [
        "# import SemkgAPI\n",
        "#import json\n",
        "#from vision_utils import semkg_api, data\n",
        "\n",
        "# # query from string\n",
        "\n",
        "# # query from file"
      ],
      "execution_count": null,
      "outputs": []
    },
    {
      "cell_type": "code",
      "metadata": {
        "id": "7gHKXJzujdgB"
      },
      "source": [
        "# import json\n",
        "# import os\n",
        "# from os.path import join as opj\n",
        "# from utils import dataset_split, check_instances_categories, check_download_images\n",
        "\n",
        "\n",
        "# query_string='''#Give me the images containing person and cat\n",
        "# prefix cv:<http://vision.semkg.org/onto/v0.1/>\n",
        "# SELECT DISTINCT ?image\n",
        "# WHERE {\n",
        "#     ?ann1 a cv:Annotation.\n",
        "#     ?ann1 cv:isAnnotationOfImage ?image.\n",
        "#     ?ann1 cv:hasAnnotatedObject ?obj1.\n",
        "#     ?obj1 cv:hasLabel \"person\".\n",
        "#     ?ann2 a cv:Annotation.\n",
        "#     ?ann2 cv:isAnnotationOfImage ?image.\n",
        "#     ?ann2 cv:hasAnnotatedObject ?obj2.\n",
        "#     ?obj2 cv:hasLabel \"cat\".\n",
        "#     ?image cv:hasLocalPath ?localPath.\n",
        "# }\n",
        "# LIMIT 20'''\n",
        "\n",
        "# result=semkg_api.query(query_string)\n",
        "\n",
        "# ROOT_PATH = os.path.abspath('./')\n",
        "# json_f_name = 'test_query_api_image.json'\n",
        "# path_to_anno_mixedDatasets = opj(ROOT_PATH, 'testData/mixedDatasets/imagenette2_tiny/meta/')\n",
        "# path_to_images_mixedDatasets = opj(ROOT_PATH, 'testData/mixedDatasets/imagenette2_tiny/')\n",
        "# os.makedirs(path_to_anno_mixedDatasets, exist_ok=True)\n",
        "# path_to_anno = opj(path_to_anno_mixedDatasets, json_f_name)\n",
        "\n",
        "# with open(path_to_anno, \"w\") as f:\n",
        "#     json.dump(result,f)\n",
        "\n",
        "# check_download_images(result[\"images\"])\n",
        "# categories = [category['name'] for category in result['categories']]\n",
        "# number_of_categories = len(categories)"
      ],
      "execution_count": null,
      "outputs": []
    },
    {
      "cell_type": "markdown",
      "metadata": {
        "id": "UkMrRI8ZAqXT"
      },
      "source": [
        "## 1.1 Download ImageNette"
      ]
    },
    {
      "cell_type": "code",
      "metadata": {
        "id": "raH_Hn-1AyU3"
      },
      "source": [
        "!wget -P ./data/ https://s3.amazonaws.com/fast-ai-imageclas/imagenette2-320.tgz\n",
        "!tar -xf ./data/imagenette2-320.tgz -C ./data/ && rm ./data/imagenette2-320.tgz"
      ],
      "execution_count": null,
      "outputs": []
    },
    {
      "cell_type": "markdown",
      "metadata": {
        "id": "-UD7p4SxEVEv"
      },
      "source": [
        "## 1.2 Set dirs && other params"
      ]
    },
    {
      "cell_type": "code",
      "metadata": {
        "id": "Ag1Ygp20ETq6"
      },
      "source": [
        "import os\n",
        "\n",
        "data_dir = './data/imagenette2-320/'\n",
        "test_images = './data/imagenette2-320/val/'\n",
        "output_training_dir = './output/train/'\n",
        "output_test_dir = './output/test/'\n",
        "num_classes = len(os.listdir(test_images))\n",
        "used_model = 'resnet18'"
      ],
      "execution_count": null,
      "outputs": []
    },
    {
      "cell_type": "markdown",
      "metadata": {
        "id": "ODMJYRW6D3Qa"
      },
      "source": [
        "## 1.3 Training on the MixedDataset"
      ]
    },
    {
      "cell_type": "code",
      "metadata": {
        "id": "TC_kfJJJRU6L"
      },
      "source": [
        "%run train.py {data_dir} \\\n",
        "--output {output_training_dir} \\\n",
        "--model {used_model} \\\n",
        "--sched cosine \\\n",
        "--epochs 10 \\\n",
        "--warmup-epochs 5 \\\n",
        "--lr 0.4 \\\n",
        "--reprob 0.5 \\\n",
        "--remode pixel \\\n",
        "--checkpoint-hist 10 \\\n",
        "--num-classes {num_classes} \\\n",
        "--batch-size 256"
      ],
      "execution_count": null,
      "outputs": []
    },
    {
      "cell_type": "markdown",
      "metadata": {
        "id": "JQ8e-m9mD2LB"
      },
      "source": [
        "## 1.4 Verify the checkpoint file."
      ]
    },
    {
      "cell_type": "code",
      "metadata": {
        "id": "p6OarK0bwZo0"
      },
      "source": [
        "all_existed_dirs = [os.path.join(output_training_dir,sub_dir) for sub_dir in os.listdir(output_training_dir) if os.path.isdir(os.path.join(output_training_dir,sub_dir))]\n",
        "latest_output_dir = max(all_existed_dirs, key=os.path.getmtime)\n",
        "checkpoint_file = os.path.join(latest_output_dir, \"model_best.pth.tar\")\n",
        "assert os.path.isfile(checkpoint_file), '{} not exist'.format(checkpoint_file)\n",
        "checkpoint_file = os.path.abspath(checkpoint_file)"
      ],
      "execution_count": null,
      "outputs": []
    },
    {
      "cell_type": "markdown",
      "metadata": {
        "id": "E9fXegyy5G-q"
      },
      "source": [
        "## 1.5 Testing on the MixedDataset"
      ]
    },
    {
      "cell_type": "code",
      "metadata": {
        "id": "qkkHWcJ7b882"
      },
      "source": [
        "%run validate.py {test_images} \\\n",
        "--model {used_model} \\\n",
        "--num-classes {num_classes} \\\n",
        "--checkpoint {checkpoint_file}"
      ],
      "execution_count": null,
      "outputs": []
    }
  ]
}