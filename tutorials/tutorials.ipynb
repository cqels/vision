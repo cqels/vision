{
  "nbformat": 4,
  "nbformat_minor": 2,
  "metadata": {
    "colab": {
      "name": "tutorials.ipynb",
      "provenance": [],
      "collapsed_sections": []
    },
    "kernelspec": {
      "name": "python3",
      "display_name": "Python 3"
    },
    "language_info": {
      "name": "python"
    },
    "accelerator": "GPU"
  },
  "cells": [
    {
      "cell_type": "markdown",
      "source": [
        "# Tutorial: Model Training / Inference based on MixedDatasets"
      ],
      "metadata": {
        "id": "osTQZUCg-vQF"
      }
    },
    {
      "cell_type": "markdown",
      "source": [
        "# 0 Configure ENVS"
      ],
      "metadata": {
        "id": "ah3BVAA7ALxX"
      }
    },
    {
      "cell_type": "code",
      "execution_count": null,
      "source": [
        "DATA_ROOT_PATH=\"/mnt\""
      ],
      "outputs": [],
      "metadata": {}
    },
    {
      "cell_type": "markdown",
      "source": [
        "## 0.1 Clone our repo"
      ],
      "metadata": {
        "id": "cmHXi25QAxMl"
      }
    },
    {
      "cell_type": "code",
      "execution_count": null,
      "source": [
        "!git clone https://github.com/jichengyuan/mmdetectionCust.git"
      ],
      "outputs": [],
      "metadata": {
        "id": "1u2FlUnJ-yv3"
      }
    },
    {
      "cell_type": "markdown",
      "source": [
        "## 0.2 check gcc, g++ and cuda"
      ],
      "metadata": {
        "id": "IsbxxuYCA2Yi"
      }
    },
    {
      "cell_type": "code",
      "execution_count": null,
      "source": [
        "!gcc --version\r\n",
        "!g++ --version\r\n",
        "!nvcc --version"
      ],
      "outputs": [],
      "metadata": {
        "id": "9r3bVAkABArK"
      }
    },
    {
      "cell_type": "markdown",
      "source": [
        "## 0.3 install mmcv-full and other dependencies"
      ],
      "metadata": {
        "id": "AOwhEozmBJ64"
      }
    },
    {
      "cell_type": "code",
      "execution_count": null,
      "source": [
        "# You may need to restart your runtime after this cell, to let your installation take effect.\r\n",
        "\r\n",
        "%cd mmdetectionCust/\r\n",
        "!pip install cython mmcv-full funcy && pip --no-cache-dir install -r requirements.txt\r\n",
        "!python setup.py develop"
      ],
      "outputs": [],
      "metadata": {
        "id": "bMAJhzwMQNW-"
      }
    },
    {
      "cell_type": "markdown",
      "source": [
        "## 0.4 download a pretrained model if desired"
      ],
      "metadata": {
        "id": "bS1EcsSzCCUE"
      }
    },
    {
      "cell_type": "code",
      "execution_count": null,
      "source": [
        "import os\r\n",
        "path_to_pth = 'mmdetectionCust/pths/focs/'\r\n",
        "os.makedirs(path_to_pth, exist_ok=True)\r\n",
        "\r\n",
        "%cd mmdetectionCust/\r\n",
        "!wget -P $path_to_pth https://openmmlab.oss-cn-hangzhou.aliyuncs.com/mmdetection/v2.0/fcos/fcos_r50_caffe_fpn_gn-head_1x_coco/fcos_r50_caffe_fpn_gn-head_1x_coco-821213aa.pth"
      ],
      "outputs": [],
      "metadata": {
        "id": "N52MXibBcONW"
      }
    },
    {
      "cell_type": "markdown",
      "source": [
        "# 1 MixedDataset: Querying, Training and Testing"
      ],
      "metadata": {
        "id": "jSaW9721CXPE"
      }
    },
    {
      "cell_type": "markdown",
      "source": [
        "## 1.1 Query a MixedDataset"
      ],
      "metadata": {
        "id": "1ZQeO_4WCxd2"
      }
    },
    {
      "cell_type": "code",
      "execution_count": null,
      "source": [
        "# clone vision project\r\n",
        "!rm -r vision\r\n",
        "!git clone https://github.com/cqels/vision.git"
      ],
      "outputs": [],
      "metadata": {}
    },
    {
      "cell_type": "code",
      "execution_count": null,
      "source": [
        "# import SemkgAPI\r\n",
        "import json\r\n",
        "import vision.src.utils.semkg_api as semkg_api\r\n",
        "import vision.src.utils.data as data\r\n",
        "\r\n",
        "# # query from string\r\n",
        "\r\n",
        "# # query from file"
      ],
      "outputs": [],
      "metadata": {
        "id": "KDDSL4k-C-b3"
      }
    },
    {
      "cell_type": "code",
      "execution_count": null,
      "source": [
        "query_string='''#Give me the images containing person and cat\r\n",
        "prefix cv:<http://vision.semkg.org/onto/v0.1/>\r\n",
        "SELECT DISTINCT ?image\r\n",
        "WHERE {\r\n",
        "    ?ann1 a cv:Annotation.\r\n",
        "    ?ann1 cv:isAnnotationOfImage ?image.\r\n",
        "    ?ann1 cv:hasAnnotatedObject ?obj1.\r\n",
        "    ?obj1 cv:hasLabel \"person\".\r\n",
        "    ?ann2 a cv:Annotation.\r\n",
        "    ?ann2 cv:isAnnotationOfImage ?image.\r\n",
        "    ?ann2 cv:hasAnnotatedObject ?obj2.\r\n",
        "    ?obj2 cv:hasLabel \"cat\".\r\n",
        "    ?image cv:hasLocalPath ?localPath.\r\n",
        "}\r\n",
        "LIMIT 20'''\r\n",
        "\r\n",
        "result=semkg_api.query(query_string)\r\n",
        "ANNOTATION_FILENAME=\"annotation.json\"\r\n",
        "with open(ANNOTATION_FILENAME,\"w\") as f:\r\n",
        "    json.dump(result,f)"
      ],
      "outputs": [],
      "metadata": {}
    },
    {
      "cell_type": "code",
      "execution_count": null,
      "source": [
        "#prepare dataset from annotation\r\n",
        "data.prepare_data(result[\"images\"])"
      ],
      "outputs": [],
      "metadata": {}
    },
    {
      "cell_type": "markdown",
      "source": [
        "## 1.1 FakeData"
      ],
      "metadata": {
        "id": "u5XoBqoeC_Nv"
      }
    },
    {
      "cell_type": "code",
      "execution_count": 5,
      "source": [
        "import json\r\n",
        "import os\r\n",
        "from os.path import join as opj\r\n",
        "from utils import dataset_split, check_instances_categories, check_download_images\r\n",
        "\r\n",
        "ROOT_PATH = os.path.abspath('./')\r\n",
        "\r\n",
        "json_f_name = 'test_query_api_image.json'\r\n",
        "path_to_anno = opj(ROOT_PATH, 'testData/mixedDatasets/', json_f_name)\r\n",
        "\r\n",
        "with open(path_to_anno, 'r') as annotations:\r\n",
        "  anno = json.load(annotations)\r\n",
        "\r\n",
        "check_download_images(anno[\"images\"])\r\n",
        "categories = [category['name'] for category in anno['categories']]\r\n",
        "number_of_categories = len(categories)"
      ],
      "outputs": [],
      "metadata": {
        "id": "4MQ29tkQREUr"
      }
    },
    {
      "cell_type": "markdown",
      "source": [
        "## 1.2 Split the quried MixedDatasets and check the #instances per category"
      ],
      "metadata": {
        "id": "6HNbl_TRC5q8"
      }
    },
    {
      "cell_type": "code",
      "execution_count": null,
      "source": [
        "path_to_anno_mixedDatasets = opj(ROOT_PATH, 'testData/mixedDatasets/annotations/')\r\n",
        "os.makedirs(path_to_anno_mixedDatasets, exist_ok=True)\r\n",
        "\r\n",
        "path_to_train_val = opj(path_to_anno_mixedDatasets,'train_val_set.json')\r\n",
        "path_to_train = opj(path_to_anno_mixedDatasets,'train_set.json')\r\n",
        "path_to_val = opj(path_to_anno_mixedDatasets,'val_set.json')\r\n",
        "path_to_test = opj(path_to_anno_mixedDatasets,'test_set.json')\r\n",
        "ratio = 0.8\r\n",
        "\r\n",
        "dataset_split(path_to_anno, path_to_train_val, path_to_test, ratio)\r\n",
        "dataset_split(path_to_train_val, path_to_train, path_to_val, ratio)"
      ],
      "outputs": [],
      "metadata": {
        "id": "7nouKewLRRhR"
      }
    },
    {
      "cell_type": "markdown",
      "source": [
        "## 1.3 Set paths for config and work-dir"
      ],
      "metadata": {
        "id": "QmK1Accru_4Y"
      }
    },
    {
      "cell_type": "code",
      "execution_count": 7,
      "source": [
        "path_to_config = 'configs/fcos/fcos_r50_caffe_fpn_gn-head_1x_mixedDataset_loadFromSeparatedFile.py'\n",
        "path_to_work_dir = 'training_logs_example/fcos_coco_format_anno_example/'\n",
        "path_to_pretrained_weights = 'pths/focs/fcos_r50_caffe_fpn_gn-head_1x_coco-821213aa.pth'"
      ],
      "outputs": [],
      "metadata": {
        "id": "f-U1DsFhu6QT"
      }
    },
    {
      "cell_type": "markdown",
      "source": [
        "## 1.4 Training on the MixedDataset"
      ],
      "metadata": {
        "id": "ODMJYRW6D3Qa"
      }
    },
    {
      "cell_type": "code",
      "execution_count": null,
      "source": [
        "%run tools/train.py \\\n",
        "{path_to_config} \\\n",
        "--work-dir {path_to_work_dir} \\\n",
        "--cfg-options model.bbox_head.num_classes={number_of_categories} \\\n",
        "data.train.ann_file={path_to_anno} \\\n",
        "data.val.ann_file={path_to_anno} \\\n",
        "runner.max_epochs=4 \\\n",
        "data.samples_per_gpu=1 \\\n",
        "load_from={path_to_pretrained_weights} \\\n",
        "data.train.classes=\"$categories\" \\\n",
        "data.val.classes=\"$categories\""
      ],
      "outputs": [],
      "metadata": {
        "id": "TC_kfJJJRU6L"
      }
    },
    {
      "cell_type": "markdown",
      "source": [
        "## 1.5 Verify the checkpoint file."
      ],
      "metadata": {
        "id": "JQ8e-m9mD2LB"
      }
    },
    {
      "cell_type": "code",
      "execution_count": null,
      "source": [
        "checkpoint_file = os.path.join(path_to_work_dir, \"latest.pth\")\n",
        "assert os.path.isfile(checkpoint_file), '{} not exist'.format(checkpoint_file)\n",
        "checkpoint_file = os.path.abspath(checkpoint_file)\n",
        "output_pkl = os.path.join(path_to_work_dir, 'result_test.pkl')"
      ],
      "outputs": [],
      "metadata": {
        "id": "p6OarK0bwZo0"
      }
    },
    {
      "cell_type": "markdown",
      "source": [
        "## 1.6 Testing on the MixedDataset"
      ],
      "metadata": {
        "id": "E9fXegyy5G-q"
      }
    },
    {
      "cell_type": "code",
      "execution_count": null,
      "source": [
        "%run tools/test.py \\\n",
        "{path_to_config} \\\n",
        "{checkpoint_file} \\\n",
        "--work-dir {path_to_work_dir} \\\n",
        "--out {output_pkl} \\\n",
        "--cfg-options data.test.ann_file={path_to_anno} \\\n",
        "model.bbox_head.num_classes={number_of_categories} \\\n",
        "data.samples_per_gpu=1 \\\n",
        "data.test.classes=\"$categories\" \\\n",
        "--eval bbox \\\n",
        "--show"
      ],
      "outputs": [],
      "metadata": {
        "id": "qkkHWcJ7b882"
      }
    }
  ]
}