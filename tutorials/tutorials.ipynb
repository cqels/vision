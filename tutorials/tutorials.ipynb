{
  "nbformat": 4,
  "nbformat_minor": 0,
  "metadata": {
    "colab": {
      "name": "tutorials.ipynb",
      "provenance": [],
      "collapsed_sections": []
    },
    "kernelspec": {
      "name": "python3",
      "display_name": "Python 3"
    },
    "language_info": {
      "name": "python"
    },
    "accelerator": "GPU"
  },
  "cells": [
    {
      "cell_type": "markdown",
      "metadata": {
        "id": "osTQZUCg-vQF"
      },
      "source": [
        "# Tutorial: Model Training / Inference based on MixedDatasets"
      ]
    },
    {
      "cell_type": "markdown",
      "metadata": {
        "id": "ah3BVAA7ALxX"
      },
      "source": [
        "# 0 Configure ENVS"
      ]
    },
    {
      "cell_type": "markdown",
      "metadata": {
        "id": "cmHXi25QAxMl"
      },
      "source": [
        "## 0.1 Clone our repo"
      ]
    },
    {
      "cell_type": "code",
      "metadata": {
        "id": "1u2FlUnJ-yv3"
      },
      "source": [
        "!git clone https://github.com/jichengyuan/mmdetectionCust.git"
      ],
      "execution_count": null,
      "outputs": []
    },
    {
      "cell_type": "markdown",
      "metadata": {
        "id": "IsbxxuYCA2Yi"
      },
      "source": [
        "## 0.2 check gcc, g++ and cuda"
      ]
    },
    {
      "cell_type": "code",
      "metadata": {
        "id": "9r3bVAkABArK"
      },
      "source": [
        "!gcc --version\n",
        "!g++ --version\n",
        "!nvcc --version"
      ],
      "execution_count": null,
      "outputs": []
    },
    {
      "cell_type": "markdown",
      "metadata": {
        "id": "AOwhEozmBJ64"
      },
      "source": [
        "## 0.3 install mmcv-full and other dependencies"
      ]
    },
    {
      "cell_type": "code",
      "metadata": {
        "id": "bMAJhzwMQNW-"
      },
      "source": [
        "# You may need to restart your runtime after this cell, to let your installation take effect.\n",
        "\n",
        "%cd mmdetectionCust/\n",
        "!pip install cython mmcv-full funcy && pip --no-cache-dir install -r requirements.txt\n",
        "!python setup.py develop"
      ],
      "execution_count": null,
      "outputs": []
    },
    {
      "cell_type": "markdown",
      "metadata": {
        "id": "bS1EcsSzCCUE"
      },
      "source": [
        "## 0.4 download a pretrained model if desired"
      ]
    },
    {
      "cell_type": "code",
      "metadata": {
        "id": "N52MXibBcONW"
      },
      "source": [
        "import os\n",
        "path_to_pth = 'mmdetectionCust/pths/focs/'\n",
        "os.makedirs(path_to_pth, exist_ok=True)\n",
        "\n",
        "%cd mmdetectionCust/\n",
        "!wget -P $path_to_pth https://openmmlab.oss-cn-hangzhou.aliyuncs.com/mmdetection/v2.0/fcos/fcos_r50_caffe_fpn_gn-head_1x_coco/fcos_r50_caffe_fpn_gn-head_1x_coco-821213aa.pth"
      ],
      "execution_count": null,
      "outputs": []
    },
    {
      "cell_type": "markdown",
      "metadata": {
        "id": "jSaW9721CXPE"
      },
      "source": [
        "# 1 MixedDataset: Querying, Training and Testing"
      ]
    },
    {
      "cell_type": "markdown",
      "metadata": {
        "id": "1ZQeO_4WCxd2"
      },
      "source": [
        "## 1.1 Query a MixedDataset"
      ]
    },
    {
      "cell_type": "code",
      "metadata": {
        "id": "KDDSL4k-C-b3"
      },
      "source": [
        "# import SemkgAPI\n",
        "\n",
        "# # query from string\n",
        "\n",
        "# # query from file"
      ],
      "execution_count": null,
      "outputs": []
    },
    {
      "cell_type": "markdown",
      "metadata": {
        "id": "u5XoBqoeC_Nv"
      },
      "source": [
        "## 1.1 FakeData"
      ]
    },
    {
      "cell_type": "code",
      "metadata": {
        "id": "4MQ29tkQREUr"
      },
      "source": [
        "import json\n",
        "import os\n",
        "from os.path import join as opj\n",
        "from utils import dataset_split, check_instances_categories, check_download_images\n",
        "\n",
        "ROOT_PATH = os.path.abspath('./')\n",
        "\n",
        "json_f_name = 'test_query_api_image.json'\n",
        "path_to_anno = opj(ROOT_PATH, 'testData/mixedDatasets/', json_f_name)\n",
        "\n",
        "with open(path_to_anno, 'r') as annotations:\n",
        "  anno = json.load(annotations)\n",
        "\n",
        "check_download_images(anno[\"images\"])\n",
        "categories = [category['name'] for category in anno['categories']]\n",
        "number_of_categories = len(categories)"
      ],
      "execution_count": 5,
      "outputs": []
    },
    {
      "cell_type": "markdown",
      "metadata": {
        "id": "6HNbl_TRC5q8"
      },
      "source": [
        "## 1.2 Split the quried MixedDatasets and check the #instances per category"
      ]
    },
    {
      "cell_type": "code",
      "metadata": {
        "id": "7nouKewLRRhR"
      },
      "source": [
        "path_to_anno_mixedDatasets = opj(ROOT_PATH, 'testData/mixedDatasets/annotations/')\n",
        "os.makedirs(path_to_anno_mixedDatasets, exist_ok=True)\n",
        "\n",
        "path_to_train_val = opj(path_to_anno_mixedDatasets,'train_val_set.json')\n",
        "path_to_train = opj(path_to_anno_mixedDatasets,'train_set.json')\n",
        "path_to_val = opj(path_to_anno_mixedDatasets,'val_set.json')\n",
        "path_to_test = opj(path_to_anno_mixedDatasets,'test_set.json')\n",
        "ratio = 0.8\n",
        "\n",
        "dataset_split(path_to_anno, path_to_train_val, path_to_test, ratio)\n",
        "dataset_split(path_to_train_val, path_to_train, path_to_val, ratio)"
      ],
      "execution_count": null,
      "outputs": []
    },
    {
      "cell_type": "markdown",
      "metadata": {
        "id": "QmK1Accru_4Y"
      },
      "source": [
        "## 1.3 Set paths for config and work-dir"
      ]
    },
    {
      "cell_type": "code",
      "metadata": {
        "id": "f-U1DsFhu6QT"
      },
      "source": [
        "path_to_config = 'configs/fcos/fcos_r50_caffe_fpn_gn-head_1x_mixedDataset_loadFromSeparatedFile.py'\n",
        "path_to_work_dir = 'training_logs_example/fcos_coco_format_anno_example/'\n",
        "path_to_pretrained_weights = 'pths/focs/fcos_r50_caffe_fpn_gn-head_1x_coco-821213aa.pth'"
      ],
      "execution_count": 7,
      "outputs": []
    },
    {
      "cell_type": "markdown",
      "metadata": {
        "id": "ODMJYRW6D3Qa"
      },
      "source": [
        "## 1.4 Training on the MixedDataset"
      ]
    },
    {
      "cell_type": "code",
      "metadata": {
        "id": "TC_kfJJJRU6L"
      },
      "source": [
        "%run tools/train.py \\\n",
        "{path_to_config} \\\n",
        "--work-dir {path_to_work_dir} \\\n",
        "--cfg-options model.bbox_head.num_classes={number_of_categories} \\\n",
        "data.train.ann_file={path_to_anno} \\\n",
        "data.val.ann_file={path_to_anno} \\\n",
        "runner.max_epochs=4 \\\n",
        "data.samples_per_gpu=1 \\\n",
        "load_from={path_to_pretrained_weights} \\\n",
        "data.train.classes=\"$categories\" \\\n",
        "data.val.classes=\"$categories\""
      ],
      "execution_count": null,
      "outputs": []
    },
    {
      "cell_type": "markdown",
      "metadata": {
        "id": "JQ8e-m9mD2LB"
      },
      "source": [
        "## 1.5 Verify the checkpoint file."
      ]
    },
    {
      "cell_type": "code",
      "metadata": {
        "id": "p6OarK0bwZo0"
      },
      "source": [
        "checkpoint_file = os.path.join(path_to_work_dir, \"latest.pth\")\n",
        "assert os.path.isfile(checkpoint_file), '{} not exist'.format(checkpoint_file)\n",
        "checkpoint_file = os.path.abspath(checkpoint_file)\n",
        "output_pkl = os.path.join(path_to_work_dir, 'result_test.pkl')"
      ],
      "execution_count": null,
      "outputs": []
    },
    {
      "cell_type": "markdown",
      "metadata": {
        "id": "E9fXegyy5G-q"
      },
      "source": [
        "## 1.6 Testing on the MixedDataset"
      ]
    },
    {
      "cell_type": "code",
      "metadata": {
        "id": "qkkHWcJ7b882"
      },
      "source": [
        "%run tools/test.py \\\n",
        "{path_to_config} \\\n",
        "{checkpoint_file} \\\n",
        "--work-dir {path_to_work_dir} \\\n",
        "--out {output_pkl} \\\n",
        "--cfg-options data.test.ann_file={path_to_anno} \\\n",
        "model.bbox_head.num_classes={number_of_categories} \\\n",
        "data.samples_per_gpu=1 \\\n",
        "data.test.classes=\"$categories\" \\\n",
        "--eval bbox \\\n",
        "--show"
      ],
      "execution_count": null,
      "outputs": []
    }
  ]
}