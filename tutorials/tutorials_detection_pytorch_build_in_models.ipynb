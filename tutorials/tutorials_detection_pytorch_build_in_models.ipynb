{
  "nbformat": 4,
  "nbformat_minor": 0,
  "metadata": {
    "accelerator": "GPU",
    "colab": {
      "name": "Tutorials_VisionKG_Pytorch_Build-in-Models.ipynb",
      "provenance": []
    },
    "kernelspec": {
      "display_name": "Python 3",
      "name": "python3"
    },
    "language_info": {
      "name": "python"
    }
  },
  "cells": [
    {
      "cell_type": "markdown",
      "metadata": {
        "id": "osTQZUCg-vQF"
      },
      "source": [
        "# Tutorial: VisionKG - A Data-Centric Way to Train your own Obejct Detection Models"
      ]
    },
    {
      "cell_type": "markdown",
      "metadata": {
        "id": "vHWnyaMpSECR"
      },
      "source": [
        "# 1. QuickView of VisionKG"
      ]
    },
    {
      "cell_type": "markdown",
      "metadata": {
        "id": "xs9SW55g6R2t"
      },
      "source": [
        "## 1.1 One-Click to meet VisionKG"
      ]
    },
    {
      "cell_type": "code",
      "metadata": {
        "id": "dCW61IUV6R2v"
      },
      "source": [
        "%load_ext autoreload\n",
        "%autoreload 2\n",
        "\n",
        "from google.colab import output\n",
        "# install our vision api\n",
        "!python -m pip install git+https://github.com/cqels/vision.git --force\n",
        "output.clear()"
      ],
      "execution_count": null,
      "outputs": []
    },
    {
      "cell_type": "markdown",
      "metadata": {
        "id": "1ZQeO_4WCxd2"
      },
      "source": [
        "## 1.2 Query a Dataset as YOU need via VisionKG"
      ]
    },
    {
      "cell_type": "code",
      "metadata": {
        "id": "7gHKXJzujdgB"
      },
      "source": [
        "# import SemkgAPI\n",
        "from vision_utils import semkg_api, data\n",
        "from skimage import io\n",
        "import matplotlib.pyplot as plt\n",
        "from torch_model_zoo import utils\n",
        "\n",
        "query_string='''# Give me 100 images contain Car and Truck with its annotations.\n",
        "PREFIX cv:<http://vision.semkg.org/onto/v0.1/>\n",
        "PREFIX schema:<http://schema.org/>\n",
        "PREFIX rdf:<http://www.w3.org/1999/02/22-rdf-syntax-ns#>\n",
        "PREFIX xsd:<http://www.w3.org/2001/XMLSchema#>\n",
        "SELECT ?datasetName (STR(?_imageName) AS ?imageName) ?imageUrl (xsd:integer(?_imageWidth) AS ?imageWidth) (xsd:integer(?_imageHeight) AS ?imageHeight) ?labelName ?bbCentreX ?bbCentreY ?bbWidth ?bbHeight\n",
        "WHERE {\n",
        "  {\n",
        "    SELECT ?image\n",
        "    WHERE{\n",
        "      ?image cv:hasAnnotation ?annotation1.\n",
        "      ?annotation1 a cv:ObjectDetectionAnnotation.\n",
        "      ?annotation1 cv:hasLabel ?label1.\n",
        "      ?label1 cv:label \"car\".\n",
        "\n",
        "      ?image cv:hasAnnotation ?annotation2.\n",
        "      ?annotation2 a cv:ObjectDetectionAnnotation.\n",
        "      ?annotation2 cv:hasLabel ?label2.\n",
        "      ?label2 cv:label \"truck\".\n",
        "\n",
        "      ?image schema:isPartOf / schema:name ?datasetName .\n",
        "      FILTER regex(?datasetName, \"coco2017\", \"i\")\n",
        "    }\n",
        "    GROUP BY ?image\n",
        "    LIMIT 100\n",
        "  }\n",
        "  ?image schema:isPartOf / schema:name ?datasetName .\n",
        "  ?image schema:name ?_imageName.\n",
        "  OPTIONAL{?image schema:contentUrl ?imageUrl}.\n",
        "  ?image cv:hasAnnotation ?annotation.\n",
        "  ?image cv:imgWidth ?_imageWidth.\n",
        "  ?image cv:imgHeight ?_imageHeight.\n",
        "  ?annotation cv:hasLabel/cv:label ?labelName.\n",
        "  ?annotation cv:hasBox ?bbox.\n",
        "  ?bbox cv:boxHeight ?bbHeight.\n",
        "  ?bbox cv:boxWidth ?bbWidth.\n",
        "  ?bbox cv:centerX ?bbCentreX.\n",
        "  ?bbox cv:centerY ?bbCentreY.\n",
        "}\n",
        "'''\n",
        "\n",
        "#Query and return result\n",
        "result=semkg_api.query(query_string)\n",
        "result = utils.visionkg2cocoDet(result)"
      ],
      "execution_count": null,
      "outputs": []
    },
    {
      "cell_type": "markdown",
      "metadata": {
        "id": "jSaW9721CXPE"
      },
      "source": [
        "# 2. Object Detection in Practice starting from VisionKG"
      ]
    },
    {
      "cell_type": "markdown",
      "metadata": {
        "id": "RZ4e_tlQ6R20"
      },
      "source": [
        "## 2.1 Prepare and set parameters for training and evaluation"
      ]
    },
    {
      "cell_type": "code",
      "metadata": {
        "id": "YIs9RHdcHF77"
      },
      "source": [
        "from torch_model_zoo import utils\n",
        "from os.path import join as opj\n",
        "\n",
        "filter_cat_nms = ['car', 'truck']\n",
        "path_to_anno_mixedDatasets = opj('data/mixedDatasets/','test_query_api_image.json')\n",
        "params = utils.prepare_for_training(path_to_anno_mixedDatasets, result, filter_cat_nms)"
      ],
      "execution_count": null,
      "outputs": []
    },
    {
      "cell_type": "markdown",
      "metadata": {
        "id": "kfFluzqk6R2n"
      },
      "source": [
        "##2.2 Dataset Playground"
      ]
    },
    {
      "cell_type": "code",
      "metadata": {
        "id": "WnNra7YcvutW"
      },
      "source": [
        "if params['NUM_CAT'] > 4:\n",
        "  cat_nms = params['CAT_NMS'][0:4]\n",
        "else:\n",
        "  cat_nms = params['CAT_NMS']\n",
        "\n",
        "utils.show_annotation(path_to_anno_mixedDatasets, cat_nms, show_num=6)\n",
        "utils.show_cat_distribution(path_to_anno_mixedDatasets, cat_nms)"
      ],
      "execution_count": null,
      "outputs": []
    },
    {
      "cell_type": "markdown",
      "metadata": {
        "id": "ob5OoeS9JIiO"
      },
      "source": [
        "## 2.3 Perform Training & Evaluation on pytorch build-in models"
      ]
    },
    {
      "cell_type": "code",
      "metadata": {
        "id": "gcUjrc23IiBC"
      },
      "source": [
        "from torch_model_zoo.train_eval import train_eval_pipeline\n",
        "params['IMGS_PATH'] = 'data/image_dataset/coco'\n",
        "train_eval_pipeline(params)"
      ],
      "execution_count": null,
      "outputs": []
    }
  ]
}